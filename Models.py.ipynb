{
 "cells": [
  {
   "cell_type": "code",
   "execution_count": 1,
   "id": "62e0e239",
   "metadata": {},
   "outputs": [
    {
     "name": "stdout",
     "output_type": "stream",
     "text": [
      "Models have been trained and saved successfully.\n"
     ]
    }
   ],
   "source": [
    "import pandas as pd\n",
    "from sklearn.model_selection import train_test_split\n",
    "from sklearn.tree import DecisionTreeRegressor\n",
    "from sklearn.svm import SVR\n",
    "from sklearn.ensemble import RandomForestRegressor\n",
    "from sklearn.preprocessing import LabelEncoder\n",
    "import pickle\n",
    "\n",
    "# Load dataset\n",
    "data = pd.read_csv('processed_space_traffic.csv')  # Replace with your actual dataset\n",
    "\n",
    "# Encode Traffic Density Category (if necessary)\n",
    "label_encoder = LabelEncoder()\n",
    "data['Traffic_Density_Category'] = label_encoder.fit_transform(data['Traffic_Density_Category'])\n",
    "\n",
    "# Features and Target\n",
    "X = data.drop(columns=['Traffic_Density', 'Traffic_Density_Category'])\n",
    "y = data['Traffic_Density']\n",
    "\n",
    "# Train-Test Split (80-20)\n",
    "X_train, X_test, y_train, y_test = train_test_split(X, y, test_size=0.2, random_state=42)\n",
    "\n",
    "# 1. Train Decision Tree Model\n",
    "dt_model = DecisionTreeRegressor(random_state=42)\n",
    "dt_model.fit(X_train, y_train)\n",
    "\n",
    "# 2. Train SVM Model\n",
    "svm_model = SVR()\n",
    "svm_model.fit(X_train, y_train)\n",
    "\n",
    "# 3. Train Random Forest Model\n",
    "rf_model = RandomForestRegressor(random_state=42)\n",
    "rf_model.fit(X_train, y_train)\n",
    "\n",
    "# Save models as .pkl files\n",
    "with open('dt_model.pkl', 'wb') as f:\n",
    "    pickle.dump(dt_model, f)\n",
    "\n",
    "with open('svm_model.pkl', 'wb') as f:\n",
    "    pickle.dump(svm_model, f)\n",
    "\n",
    "with open('rf_model.pkl', 'wb') as f:\n",
    "    pickle.dump(rf_model, f)\n",
    "\n",
    "print(\"Models have been trained and saved successfully.\")\n"
   ]
  }
 ],
 "metadata": {
  "kernelspec": {
   "display_name": "Python 3 (ipykernel)",
   "language": "python",
   "name": "python3"
  },
  "language_info": {
   "codemirror_mode": {
    "name": "ipython",
    "version": 3
   },
   "file_extension": ".py",
   "mimetype": "text/x-python",
   "name": "python",
   "nbconvert_exporter": "python",
   "pygments_lexer": "ipython3",
   "version": "3.11.5"
  }
 },
 "nbformat": 4,
 "nbformat_minor": 5
}
