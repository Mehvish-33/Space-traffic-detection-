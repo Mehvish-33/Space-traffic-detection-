{
 "cells": [
  {
   "cell_type": "markdown",
   "metadata": {
    "id": "TZ07aHI2asDs"
   },
   "source": [
    "# Step 1: Load the Dataset\n"
   ]
  },
  {
   "cell_type": "code",
   "execution_count": 2,
   "metadata": {
    "colab": {
     "base_uri": "https://localhost:8080/",
     "height": 206
    },
    "id": "psSkV2fDa6Db",
    "outputId": "14f11c38-ee99-43b4-bbe8-c025e3f514fa"
   },
   "outputs": [
    {
     "data": {
      "text/html": [
       "<div>\n",
       "<style scoped>\n",
       "    .dataframe tbody tr th:only-of-type {\n",
       "        vertical-align: middle;\n",
       "    }\n",
       "\n",
       "    .dataframe tbody tr th {\n",
       "        vertical-align: top;\n",
       "    }\n",
       "\n",
       "    .dataframe thead th {\n",
       "        text-align: right;\n",
       "    }\n",
       "</style>\n",
       "<table border=\"1\" class=\"dataframe\">\n",
       "  <thead>\n",
       "    <tr style=\"text-align: right;\">\n",
       "      <th></th>\n",
       "      <th>Timestamp</th>\n",
       "      <th>Location</th>\n",
       "      <th>Object_Type</th>\n",
       "      <th>Traffic_Density</th>\n",
       "      <th>Peak_Time</th>\n",
       "    </tr>\n",
       "  </thead>\n",
       "  <tbody>\n",
       "    <tr>\n",
       "      <th>0</th>\n",
       "      <td>21-10-2024 21:00</td>\n",
       "      <td>Lagrange Point L2</td>\n",
       "      <td>Space Station</td>\n",
       "      <td>17</td>\n",
       "      <td>15:00</td>\n",
       "    </tr>\n",
       "    <tr>\n",
       "      <th>1</th>\n",
       "      <td>11-10-2024 05:00</td>\n",
       "      <td>Orbit LEO</td>\n",
       "      <td>Satellite</td>\n",
       "      <td>21</td>\n",
       "      <td>15:00</td>\n",
       "    </tr>\n",
       "    <tr>\n",
       "      <th>2</th>\n",
       "      <td>29-10-2024 13:00</td>\n",
       "      <td>Orbit LEO</td>\n",
       "      <td>Space Station</td>\n",
       "      <td>88</td>\n",
       "      <td>6:00</td>\n",
       "    </tr>\n",
       "    <tr>\n",
       "      <th>3</th>\n",
       "      <td>24-10-2024 08:00</td>\n",
       "      <td>Mars Transfer Orbit</td>\n",
       "      <td>Scientific Probe</td>\n",
       "      <td>65</td>\n",
       "      <td>8:00</td>\n",
       "    </tr>\n",
       "    <tr>\n",
       "      <th>4</th>\n",
       "      <td>23-10-2024 17:00</td>\n",
       "      <td>Lagrange Point L1</td>\n",
       "      <td>Space Station</td>\n",
       "      <td>9</td>\n",
       "      <td>6:00</td>\n",
       "    </tr>\n",
       "  </tbody>\n",
       "</table>\n",
       "</div>"
      ],
      "text/plain": [
       "          Timestamp             Location       Object_Type  Traffic_Density  \\\n",
       "0  21-10-2024 21:00    Lagrange Point L2     Space Station               17   \n",
       "1  11-10-2024 05:00            Orbit LEO         Satellite               21   \n",
       "2  29-10-2024 13:00            Orbit LEO     Space Station               88   \n",
       "3  24-10-2024 08:00  Mars Transfer Orbit  Scientific Probe               65   \n",
       "4  23-10-2024 17:00    Lagrange Point L1     Space Station                9   \n",
       "\n",
       "  Peak_Time  \n",
       "0     15:00  \n",
       "1     15:00  \n",
       "2      6:00  \n",
       "3      8:00  \n",
       "4      6:00  "
      ]
     },
     "execution_count": 2,
     "metadata": {},
     "output_type": "execute_result"
    }
   ],
   "source": [
    "import pandas as pd\n",
    "file_path = 'space_traffic.csv'\n",
    "data = pd.read_csv(file_path)\n",
    "data.head()\n"
   ]
  },
  {
   "cell_type": "markdown",
   "metadata": {
    "id": "Ixvruak_bEv1"
   },
   "source": [
    "# Step 2: Extract Features from Timestamp"
   ]
  },
  {
   "cell_type": "code",
   "execution_count": 3,
   "metadata": {
    "colab": {
     "base_uri": "https://localhost:8080/",
     "height": 206
    },
    "id": "vv468fJbbKg8",
    "outputId": "4a0dd286-b17c-4bfe-c9c5-36b3e900993d"
   },
   "outputs": [
    {
     "name": "stderr",
     "output_type": "stream",
     "text": [
      "C:\\Users\\sharvani dhulipala\\AppData\\Local\\Temp\\ipykernel_11200\\643591398.py:1: UserWarning: Parsing dates in %d-%m-%Y %H:%M format when dayfirst=False (the default) was specified. Pass `dayfirst=True` or specify a format to silence this warning.\n",
      "  data['Timestamp'] = pd.to_datetime(data['Timestamp'])\n"
     ]
    },
    {
     "data": {
      "text/html": [
       "<div>\n",
       "<style scoped>\n",
       "    .dataframe tbody tr th:only-of-type {\n",
       "        vertical-align: middle;\n",
       "    }\n",
       "\n",
       "    .dataframe tbody tr th {\n",
       "        vertical-align: top;\n",
       "    }\n",
       "\n",
       "    .dataframe thead th {\n",
       "        text-align: right;\n",
       "    }\n",
       "</style>\n",
       "<table border=\"1\" class=\"dataframe\">\n",
       "  <thead>\n",
       "    <tr style=\"text-align: right;\">\n",
       "      <th></th>\n",
       "      <th>Timestamp</th>\n",
       "      <th>Year</th>\n",
       "      <th>Month</th>\n",
       "      <th>Day</th>\n",
       "      <th>Hour</th>\n",
       "    </tr>\n",
       "  </thead>\n",
       "  <tbody>\n",
       "    <tr>\n",
       "      <th>0</th>\n",
       "      <td>2024-10-21 21:00:00</td>\n",
       "      <td>2024</td>\n",
       "      <td>10</td>\n",
       "      <td>21</td>\n",
       "      <td>21</td>\n",
       "    </tr>\n",
       "    <tr>\n",
       "      <th>1</th>\n",
       "      <td>2024-10-11 05:00:00</td>\n",
       "      <td>2024</td>\n",
       "      <td>10</td>\n",
       "      <td>11</td>\n",
       "      <td>5</td>\n",
       "    </tr>\n",
       "    <tr>\n",
       "      <th>2</th>\n",
       "      <td>2024-10-29 13:00:00</td>\n",
       "      <td>2024</td>\n",
       "      <td>10</td>\n",
       "      <td>29</td>\n",
       "      <td>13</td>\n",
       "    </tr>\n",
       "    <tr>\n",
       "      <th>3</th>\n",
       "      <td>2024-10-24 08:00:00</td>\n",
       "      <td>2024</td>\n",
       "      <td>10</td>\n",
       "      <td>24</td>\n",
       "      <td>8</td>\n",
       "    </tr>\n",
       "    <tr>\n",
       "      <th>4</th>\n",
       "      <td>2024-10-23 17:00:00</td>\n",
       "      <td>2024</td>\n",
       "      <td>10</td>\n",
       "      <td>23</td>\n",
       "      <td>17</td>\n",
       "    </tr>\n",
       "  </tbody>\n",
       "</table>\n",
       "</div>"
      ],
      "text/plain": [
       "            Timestamp  Year  Month  Day  Hour\n",
       "0 2024-10-21 21:00:00  2024     10   21    21\n",
       "1 2024-10-11 05:00:00  2024     10   11     5\n",
       "2 2024-10-29 13:00:00  2024     10   29    13\n",
       "3 2024-10-24 08:00:00  2024     10   24     8\n",
       "4 2024-10-23 17:00:00  2024     10   23    17"
      ]
     },
     "execution_count": 3,
     "metadata": {},
     "output_type": "execute_result"
    }
   ],
   "source": [
    "data['Timestamp'] = pd.to_datetime(data['Timestamp'])\n",
    "data['Year'] = data['Timestamp'].dt.year\n",
    "data['Month'] = data['Timestamp'].dt.month\n",
    "data['Day'] = data['Timestamp'].dt.day\n",
    "data['Hour'] = data['Timestamp'].dt.hour\n",
    "data[['Timestamp', 'Year', 'Month', 'Day', 'Hour']].head()\n"
   ]
  },
  {
   "cell_type": "markdown",
   "metadata": {
    "id": "gFuDCImzbQbT"
   },
   "source": [
    "Temporal features can provide insights into patterns over time, such as seasonality or trends."
   ]
  },
  {
   "cell_type": "markdown",
   "metadata": {
    "id": "p3m_Dn8_bWTM"
   },
   "source": [
    "# Step 3: Convert Peak Time into Numeric Representation"
   ]
  },
  {
   "cell_type": "code",
   "execution_count": 4,
   "metadata": {
    "colab": {
     "base_uri": "https://localhost:8080/",
     "height": 206
    },
    "id": "0F8_YDf1beRc",
    "outputId": "a232aef1-5f4e-4dce-b547-33d8a2619d5e"
   },
   "outputs": [
    {
     "data": {
      "text/html": [
       "<div>\n",
       "<style scoped>\n",
       "    .dataframe tbody tr th:only-of-type {\n",
       "        vertical-align: middle;\n",
       "    }\n",
       "\n",
       "    .dataframe tbody tr th {\n",
       "        vertical-align: top;\n",
       "    }\n",
       "\n",
       "    .dataframe thead th {\n",
       "        text-align: right;\n",
       "    }\n",
       "</style>\n",
       "<table border=\"1\" class=\"dataframe\">\n",
       "  <thead>\n",
       "    <tr style=\"text-align: right;\">\n",
       "      <th></th>\n",
       "      <th>Peak_Time</th>\n",
       "      <th>Peak_Time_Hour</th>\n",
       "    </tr>\n",
       "  </thead>\n",
       "  <tbody>\n",
       "    <tr>\n",
       "      <th>0</th>\n",
       "      <td>15:00</td>\n",
       "      <td>15</td>\n",
       "    </tr>\n",
       "    <tr>\n",
       "      <th>1</th>\n",
       "      <td>15:00</td>\n",
       "      <td>15</td>\n",
       "    </tr>\n",
       "    <tr>\n",
       "      <th>2</th>\n",
       "      <td>6:00</td>\n",
       "      <td>6</td>\n",
       "    </tr>\n",
       "    <tr>\n",
       "      <th>3</th>\n",
       "      <td>8:00</td>\n",
       "      <td>8</td>\n",
       "    </tr>\n",
       "    <tr>\n",
       "      <th>4</th>\n",
       "      <td>6:00</td>\n",
       "      <td>6</td>\n",
       "    </tr>\n",
       "  </tbody>\n",
       "</table>\n",
       "</div>"
      ],
      "text/plain": [
       "  Peak_Time  Peak_Time_Hour\n",
       "0     15:00              15\n",
       "1     15:00              15\n",
       "2      6:00               6\n",
       "3      8:00               8\n",
       "4      6:00               6"
      ]
     },
     "execution_count": 4,
     "metadata": {},
     "output_type": "execute_result"
    }
   ],
   "source": [
    "data['Peak_Time_Hour'] = pd.to_datetime(data['Peak_Time'], format='%H:%M').dt.hour\n",
    "data[['Peak_Time', 'Peak_Time_Hour']].head()\n"
   ]
  },
  {
   "cell_type": "markdown",
   "metadata": {
    "id": "IExn0BQFbiTU"
   },
   "source": [
    "Numerical representation of peak time enables the model to analyze its effect on traffic density."
   ]
  },
  {
   "cell_type": "markdown",
   "metadata": {
    "id": "loxQt6Snbk7E"
   },
   "source": [
    "# Step 4: Encode Location"
   ]
  },
  {
   "cell_type": "code",
   "execution_count": 5,
   "metadata": {
    "colab": {
     "base_uri": "https://localhost:8080/",
     "height": 206
    },
    "id": "B3C8fVnubpAk",
    "outputId": "0143627e-99cd-4696-c97a-c69af99ad69b"
   },
   "outputs": [
    {
     "data": {
      "text/html": [
       "<div>\n",
       "<style scoped>\n",
       "    .dataframe tbody tr th:only-of-type {\n",
       "        vertical-align: middle;\n",
       "    }\n",
       "\n",
       "    .dataframe tbody tr th {\n",
       "        vertical-align: top;\n",
       "    }\n",
       "\n",
       "    .dataframe thead th {\n",
       "        text-align: right;\n",
       "    }\n",
       "</style>\n",
       "<table border=\"1\" class=\"dataframe\">\n",
       "  <thead>\n",
       "    <tr style=\"text-align: right;\">\n",
       "      <th></th>\n",
       "      <th>Location</th>\n",
       "      <th>Location_Encoded</th>\n",
       "    </tr>\n",
       "  </thead>\n",
       "  <tbody>\n",
       "    <tr>\n",
       "      <th>0</th>\n",
       "      <td>Lagrange Point L2</td>\n",
       "      <td>1</td>\n",
       "    </tr>\n",
       "    <tr>\n",
       "      <th>1</th>\n",
       "      <td>Orbit LEO</td>\n",
       "      <td>4</td>\n",
       "    </tr>\n",
       "    <tr>\n",
       "      <th>2</th>\n",
       "      <td>Orbit LEO</td>\n",
       "      <td>4</td>\n",
       "    </tr>\n",
       "    <tr>\n",
       "      <th>3</th>\n",
       "      <td>Mars Transfer Orbit</td>\n",
       "      <td>2</td>\n",
       "    </tr>\n",
       "    <tr>\n",
       "      <th>4</th>\n",
       "      <td>Lagrange Point L1</td>\n",
       "      <td>0</td>\n",
       "    </tr>\n",
       "  </tbody>\n",
       "</table>\n",
       "</div>"
      ],
      "text/plain": [
       "              Location  Location_Encoded\n",
       "0    Lagrange Point L2                 1\n",
       "1            Orbit LEO                 4\n",
       "2            Orbit LEO                 4\n",
       "3  Mars Transfer Orbit                 2\n",
       "4    Lagrange Point L1                 0"
      ]
     },
     "execution_count": 5,
     "metadata": {},
     "output_type": "execute_result"
    }
   ],
   "source": [
    "data['Location_Encoded'] = data['Location'].astype('category').cat.codes\n",
    "data[['Location', 'Location_Encoded']].head()\n"
   ]
  },
  {
   "cell_type": "markdown",
   "metadata": {
    "id": "lV7I6D6hbrTz"
   },
   "source": [
    "Machine learning models work better with numerical inputs. Encoding simplifies categorical features."
   ]
  },
  {
   "cell_type": "markdown",
   "metadata": {
    "id": "NXrCwHvGbul2"
   },
   "source": [
    "# Step 5: One-Hot Encode Object_Type"
   ]
  },
  {
   "cell_type": "code",
   "execution_count": 6,
   "metadata": {
    "colab": {
     "base_uri": "https://localhost:8080/",
     "height": 417
    },
    "id": "cXXspRezbyFs",
    "outputId": "529eb399-7dba-4eb4-8132-2c88dd5e0a50"
   },
   "outputs": [
    {
     "data": {
      "text/html": [
       "<div>\n",
       "<style scoped>\n",
       "    .dataframe tbody tr th:only-of-type {\n",
       "        vertical-align: middle;\n",
       "    }\n",
       "\n",
       "    .dataframe tbody tr th {\n",
       "        vertical-align: top;\n",
       "    }\n",
       "\n",
       "    .dataframe thead th {\n",
       "        text-align: right;\n",
       "    }\n",
       "</style>\n",
       "<table border=\"1\" class=\"dataframe\">\n",
       "  <thead>\n",
       "    <tr style=\"text-align: right;\">\n",
       "      <th></th>\n",
       "      <th>Timestamp</th>\n",
       "      <th>Location</th>\n",
       "      <th>Object_Type</th>\n",
       "      <th>Traffic_Density</th>\n",
       "      <th>Peak_Time</th>\n",
       "      <th>Year</th>\n",
       "      <th>Month</th>\n",
       "      <th>Day</th>\n",
       "      <th>Hour</th>\n",
       "      <th>Peak_Time_Hour</th>\n",
       "      <th>Location_Encoded</th>\n",
       "      <th>Object_Type_Asteroid Mining Ship</th>\n",
       "      <th>Object_Type_Manned Spacecraft</th>\n",
       "      <th>Object_Type_Satellite</th>\n",
       "      <th>Object_Type_Scientific Probe</th>\n",
       "      <th>Object_Type_Space Debris</th>\n",
       "      <th>Object_Type_Space Station</th>\n",
       "    </tr>\n",
       "  </thead>\n",
       "  <tbody>\n",
       "    <tr>\n",
       "      <th>0</th>\n",
       "      <td>2024-10-21 21:00:00</td>\n",
       "      <td>Lagrange Point L2</td>\n",
       "      <td>Space Station</td>\n",
       "      <td>17</td>\n",
       "      <td>15:00</td>\n",
       "      <td>2024</td>\n",
       "      <td>10</td>\n",
       "      <td>21</td>\n",
       "      <td>21</td>\n",
       "      <td>15</td>\n",
       "      <td>1</td>\n",
       "      <td>False</td>\n",
       "      <td>False</td>\n",
       "      <td>False</td>\n",
       "      <td>False</td>\n",
       "      <td>False</td>\n",
       "      <td>True</td>\n",
       "    </tr>\n",
       "    <tr>\n",
       "      <th>1</th>\n",
       "      <td>2024-10-11 05:00:00</td>\n",
       "      <td>Orbit LEO</td>\n",
       "      <td>Satellite</td>\n",
       "      <td>21</td>\n",
       "      <td>15:00</td>\n",
       "      <td>2024</td>\n",
       "      <td>10</td>\n",
       "      <td>11</td>\n",
       "      <td>5</td>\n",
       "      <td>15</td>\n",
       "      <td>4</td>\n",
       "      <td>False</td>\n",
       "      <td>False</td>\n",
       "      <td>True</td>\n",
       "      <td>False</td>\n",
       "      <td>False</td>\n",
       "      <td>False</td>\n",
       "    </tr>\n",
       "    <tr>\n",
       "      <th>2</th>\n",
       "      <td>2024-10-29 13:00:00</td>\n",
       "      <td>Orbit LEO</td>\n",
       "      <td>Space Station</td>\n",
       "      <td>88</td>\n",
       "      <td>6:00</td>\n",
       "      <td>2024</td>\n",
       "      <td>10</td>\n",
       "      <td>29</td>\n",
       "      <td>13</td>\n",
       "      <td>6</td>\n",
       "      <td>4</td>\n",
       "      <td>False</td>\n",
       "      <td>False</td>\n",
       "      <td>False</td>\n",
       "      <td>False</td>\n",
       "      <td>False</td>\n",
       "      <td>True</td>\n",
       "    </tr>\n",
       "    <tr>\n",
       "      <th>3</th>\n",
       "      <td>2024-10-24 08:00:00</td>\n",
       "      <td>Mars Transfer Orbit</td>\n",
       "      <td>Scientific Probe</td>\n",
       "      <td>65</td>\n",
       "      <td>8:00</td>\n",
       "      <td>2024</td>\n",
       "      <td>10</td>\n",
       "      <td>24</td>\n",
       "      <td>8</td>\n",
       "      <td>8</td>\n",
       "      <td>2</td>\n",
       "      <td>False</td>\n",
       "      <td>False</td>\n",
       "      <td>False</td>\n",
       "      <td>True</td>\n",
       "      <td>False</td>\n",
       "      <td>False</td>\n",
       "    </tr>\n",
       "    <tr>\n",
       "      <th>4</th>\n",
       "      <td>2024-10-23 17:00:00</td>\n",
       "      <td>Lagrange Point L1</td>\n",
       "      <td>Space Station</td>\n",
       "      <td>9</td>\n",
       "      <td>6:00</td>\n",
       "      <td>2024</td>\n",
       "      <td>10</td>\n",
       "      <td>23</td>\n",
       "      <td>17</td>\n",
       "      <td>6</td>\n",
       "      <td>0</td>\n",
       "      <td>False</td>\n",
       "      <td>False</td>\n",
       "      <td>False</td>\n",
       "      <td>False</td>\n",
       "      <td>False</td>\n",
       "      <td>True</td>\n",
       "    </tr>\n",
       "  </tbody>\n",
       "</table>\n",
       "</div>"
      ],
      "text/plain": [
       "            Timestamp             Location       Object_Type  Traffic_Density  \\\n",
       "0 2024-10-21 21:00:00    Lagrange Point L2     Space Station               17   \n",
       "1 2024-10-11 05:00:00            Orbit LEO         Satellite               21   \n",
       "2 2024-10-29 13:00:00            Orbit LEO     Space Station               88   \n",
       "3 2024-10-24 08:00:00  Mars Transfer Orbit  Scientific Probe               65   \n",
       "4 2024-10-23 17:00:00    Lagrange Point L1     Space Station                9   \n",
       "\n",
       "  Peak_Time  Year  Month  Day  Hour  Peak_Time_Hour  Location_Encoded  \\\n",
       "0     15:00  2024     10   21    21              15                 1   \n",
       "1     15:00  2024     10   11     5              15                 4   \n",
       "2      6:00  2024     10   29    13               6                 4   \n",
       "3      8:00  2024     10   24     8               8                 2   \n",
       "4      6:00  2024     10   23    17               6                 0   \n",
       "\n",
       "   Object_Type_Asteroid Mining Ship  Object_Type_Manned Spacecraft  \\\n",
       "0                             False                          False   \n",
       "1                             False                          False   \n",
       "2                             False                          False   \n",
       "3                             False                          False   \n",
       "4                             False                          False   \n",
       "\n",
       "   Object_Type_Satellite  Object_Type_Scientific Probe  \\\n",
       "0                  False                         False   \n",
       "1                   True                         False   \n",
       "2                  False                         False   \n",
       "3                  False                          True   \n",
       "4                  False                         False   \n",
       "\n",
       "   Object_Type_Space Debris  Object_Type_Space Station  \n",
       "0                     False                       True  \n",
       "1                     False                      False  \n",
       "2                     False                       True  \n",
       "3                     False                      False  \n",
       "4                     False                       True  "
      ]
     },
     "execution_count": 6,
     "metadata": {},
     "output_type": "execute_result"
    }
   ],
   "source": [
    "object_type_encoded = pd.get_dummies(data['Object_Type'], prefix='Object_Type')\n",
    "data = pd.concat([data, object_type_encoded], axis=1)\n",
    "data.head()\n"
   ]
  },
  {
   "cell_type": "markdown",
   "metadata": {
    "id": "5I_0So5fb1Cd"
   },
   "source": [
    "One-hot encoding ensures each category is represented as an independent feature, avoiding ordinal relationships."
   ]
  },
  {
   "cell_type": "markdown",
   "metadata": {
    "id": "8_Fp2IVAb3Lz"
   },
   "source": [
    "# Step 6: Categorize Traffic Density"
   ]
  },
  {
   "cell_type": "code",
   "execution_count": 7,
   "metadata": {
    "colab": {
     "base_uri": "https://localhost:8080/",
     "height": 206
    },
    "id": "DTi09VwPb6f7",
    "outputId": "9a76dd51-f219-4f00-894c-9131a5aabb6b"
   },
   "outputs": [
    {
     "data": {
      "text/html": [
       "<div>\n",
       "<style scoped>\n",
       "    .dataframe tbody tr th:only-of-type {\n",
       "        vertical-align: middle;\n",
       "    }\n",
       "\n",
       "    .dataframe tbody tr th {\n",
       "        vertical-align: top;\n",
       "    }\n",
       "\n",
       "    .dataframe thead th {\n",
       "        text-align: right;\n",
       "    }\n",
       "</style>\n",
       "<table border=\"1\" class=\"dataframe\">\n",
       "  <thead>\n",
       "    <tr style=\"text-align: right;\">\n",
       "      <th></th>\n",
       "      <th>Traffic_Density</th>\n",
       "      <th>Traffic_Density_Category</th>\n",
       "    </tr>\n",
       "  </thead>\n",
       "  <tbody>\n",
       "    <tr>\n",
       "      <th>0</th>\n",
       "      <td>17</td>\n",
       "      <td>Low</td>\n",
       "    </tr>\n",
       "    <tr>\n",
       "      <th>1</th>\n",
       "      <td>21</td>\n",
       "      <td>Low</td>\n",
       "    </tr>\n",
       "    <tr>\n",
       "      <th>2</th>\n",
       "      <td>88</td>\n",
       "      <td>High</td>\n",
       "    </tr>\n",
       "    <tr>\n",
       "      <th>3</th>\n",
       "      <td>65</td>\n",
       "      <td>Medium</td>\n",
       "    </tr>\n",
       "    <tr>\n",
       "      <th>4</th>\n",
       "      <td>9</td>\n",
       "      <td>Low</td>\n",
       "    </tr>\n",
       "  </tbody>\n",
       "</table>\n",
       "</div>"
      ],
      "text/plain": [
       "   Traffic_Density Traffic_Density_Category\n",
       "0               17                      Low\n",
       "1               21                      Low\n",
       "2               88                     High\n",
       "3               65                   Medium\n",
       "4                9                      Low"
      ]
     },
     "execution_count": 7,
     "metadata": {},
     "output_type": "execute_result"
    }
   ],
   "source": [
    "def categorize_density(density):\n",
    "    if density < 30:\n",
    "        return 'Low'\n",
    "    elif 30 <= density < 70:\n",
    "        return 'Medium'\n",
    "    else:\n",
    "        return 'High'\n",
    "data['Traffic_Density_Category'] = data['Traffic_Density'].apply(categorize_density)\n",
    "data[['Traffic_Density', 'Traffic_Density_Category']].head()\n"
   ]
  },
  {
   "cell_type": "markdown",
   "metadata": {
    "id": "CfM1fzlOb-HV"
   },
   "source": [
    "Categorizing traffic density helps in understanding and modeling traffic patterns more intuitively."
   ]
  },
  {
   "cell_type": "markdown",
   "metadata": {
    "id": "mTBoCOghb_Qk"
   },
   "source": [
    "# Step 7: Drop Irrelevant Columns"
   ]
  },
  {
   "cell_type": "code",
   "execution_count": 8,
   "metadata": {
    "colab": {
     "base_uri": "https://localhost:8080/",
     "height": 243
    },
    "id": "cCa8XFzPcFW8",
    "outputId": "ffbc78ef-5f88-471f-b182-aefd4403ed9d"
   },
   "outputs": [
    {
     "data": {
      "text/html": [
       "<div>\n",
       "<style scoped>\n",
       "    .dataframe tbody tr th:only-of-type {\n",
       "        vertical-align: middle;\n",
       "    }\n",
       "\n",
       "    .dataframe tbody tr th {\n",
       "        vertical-align: top;\n",
       "    }\n",
       "\n",
       "    .dataframe thead th {\n",
       "        text-align: right;\n",
       "    }\n",
       "</style>\n",
       "<table border=\"1\" class=\"dataframe\">\n",
       "  <thead>\n",
       "    <tr style=\"text-align: right;\">\n",
       "      <th></th>\n",
       "      <th>Traffic_Density</th>\n",
       "      <th>Year</th>\n",
       "      <th>Month</th>\n",
       "      <th>Day</th>\n",
       "      <th>Hour</th>\n",
       "      <th>Peak_Time_Hour</th>\n",
       "      <th>Location_Encoded</th>\n",
       "      <th>Object_Type_Asteroid Mining Ship</th>\n",
       "      <th>Object_Type_Manned Spacecraft</th>\n",
       "      <th>Object_Type_Satellite</th>\n",
       "      <th>Object_Type_Scientific Probe</th>\n",
       "      <th>Object_Type_Space Debris</th>\n",
       "      <th>Object_Type_Space Station</th>\n",
       "      <th>Traffic_Density_Category</th>\n",
       "    </tr>\n",
       "  </thead>\n",
       "  <tbody>\n",
       "    <tr>\n",
       "      <th>0</th>\n",
       "      <td>17</td>\n",
       "      <td>2024</td>\n",
       "      <td>10</td>\n",
       "      <td>21</td>\n",
       "      <td>21</td>\n",
       "      <td>15</td>\n",
       "      <td>1</td>\n",
       "      <td>False</td>\n",
       "      <td>False</td>\n",
       "      <td>False</td>\n",
       "      <td>False</td>\n",
       "      <td>False</td>\n",
       "      <td>True</td>\n",
       "      <td>Low</td>\n",
       "    </tr>\n",
       "    <tr>\n",
       "      <th>1</th>\n",
       "      <td>21</td>\n",
       "      <td>2024</td>\n",
       "      <td>10</td>\n",
       "      <td>11</td>\n",
       "      <td>5</td>\n",
       "      <td>15</td>\n",
       "      <td>4</td>\n",
       "      <td>False</td>\n",
       "      <td>False</td>\n",
       "      <td>True</td>\n",
       "      <td>False</td>\n",
       "      <td>False</td>\n",
       "      <td>False</td>\n",
       "      <td>Low</td>\n",
       "    </tr>\n",
       "    <tr>\n",
       "      <th>2</th>\n",
       "      <td>88</td>\n",
       "      <td>2024</td>\n",
       "      <td>10</td>\n",
       "      <td>29</td>\n",
       "      <td>13</td>\n",
       "      <td>6</td>\n",
       "      <td>4</td>\n",
       "      <td>False</td>\n",
       "      <td>False</td>\n",
       "      <td>False</td>\n",
       "      <td>False</td>\n",
       "      <td>False</td>\n",
       "      <td>True</td>\n",
       "      <td>High</td>\n",
       "    </tr>\n",
       "    <tr>\n",
       "      <th>3</th>\n",
       "      <td>65</td>\n",
       "      <td>2024</td>\n",
       "      <td>10</td>\n",
       "      <td>24</td>\n",
       "      <td>8</td>\n",
       "      <td>8</td>\n",
       "      <td>2</td>\n",
       "      <td>False</td>\n",
       "      <td>False</td>\n",
       "      <td>False</td>\n",
       "      <td>True</td>\n",
       "      <td>False</td>\n",
       "      <td>False</td>\n",
       "      <td>Medium</td>\n",
       "    </tr>\n",
       "    <tr>\n",
       "      <th>4</th>\n",
       "      <td>9</td>\n",
       "      <td>2024</td>\n",
       "      <td>10</td>\n",
       "      <td>23</td>\n",
       "      <td>17</td>\n",
       "      <td>6</td>\n",
       "      <td>0</td>\n",
       "      <td>False</td>\n",
       "      <td>False</td>\n",
       "      <td>False</td>\n",
       "      <td>False</td>\n",
       "      <td>False</td>\n",
       "      <td>True</td>\n",
       "      <td>Low</td>\n",
       "    </tr>\n",
       "  </tbody>\n",
       "</table>\n",
       "</div>"
      ],
      "text/plain": [
       "   Traffic_Density  Year  Month  Day  Hour  Peak_Time_Hour  Location_Encoded  \\\n",
       "0               17  2024     10   21    21              15                 1   \n",
       "1               21  2024     10   11     5              15                 4   \n",
       "2               88  2024     10   29    13               6                 4   \n",
       "3               65  2024     10   24     8               8                 2   \n",
       "4                9  2024     10   23    17               6                 0   \n",
       "\n",
       "   Object_Type_Asteroid Mining Ship  Object_Type_Manned Spacecraft  \\\n",
       "0                             False                          False   \n",
       "1                             False                          False   \n",
       "2                             False                          False   \n",
       "3                             False                          False   \n",
       "4                             False                          False   \n",
       "\n",
       "   Object_Type_Satellite  Object_Type_Scientific Probe  \\\n",
       "0                  False                         False   \n",
       "1                   True                         False   \n",
       "2                  False                         False   \n",
       "3                  False                          True   \n",
       "4                  False                         False   \n",
       "\n",
       "   Object_Type_Space Debris  Object_Type_Space Station  \\\n",
       "0                     False                       True   \n",
       "1                     False                      False   \n",
       "2                     False                       True   \n",
       "3                     False                      False   \n",
       "4                     False                       True   \n",
       "\n",
       "  Traffic_Density_Category  \n",
       "0                      Low  \n",
       "1                      Low  \n",
       "2                     High  \n",
       "3                   Medium  \n",
       "4                      Low  "
      ]
     },
     "execution_count": 8,
     "metadata": {},
     "output_type": "execute_result"
    }
   ],
   "source": [
    "processed_data = data.drop(columns=['Timestamp', 'Peak_Time', 'Location', 'Object_Type'])\n",
    "processed_data.to_csv('processed_space_traffic.csv', index=False)\n",
    "processed_data.head()\n"
   ]
  },
  {
   "cell_type": "markdown",
   "metadata": {
    "id": "-iWiiNc2cHYL"
   },
   "source": []
  },
  {
   "cell_type": "markdown",
   "metadata": {
    "id": "if5NMe1ycVyC"
   },
   "source": []
  }
 ],
 "metadata": {
  "colab": {
   "provenance": []
  },
  "kernelspec": {
   "display_name": "Python 3 (ipykernel)",
   "language": "python",
   "name": "python3"
  },
  "language_info": {
   "codemirror_mode": {
    "name": "ipython",
    "version": 3
   },
   "file_extension": ".py",
   "mimetype": "text/x-python",
   "name": "python",
   "nbconvert_exporter": "python",
   "pygments_lexer": "ipython3",
   "version": "3.11.5"
  }
 },
 "nbformat": 4,
 "nbformat_minor": 1
}
